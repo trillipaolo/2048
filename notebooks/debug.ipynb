{
 "cells": [
  {
   "cell_type": "code",
   "execution_count": null,
   "metadata": {
    "collapsed": true,
    "pycharm": {
     "name": "#%%\n"
    }
   },
   "outputs": [],
   "source": [
    "import numpy as np\n",
    "import keyboard\n",
    "from IPython.display import clear_output\n",
    "from src.constants import constants as cts\n",
    "from src.model.MDP_2048 import MDP_2048\n",
    "\n",
    "def get_action(last):\n",
    "    curr = np.zeros(4, dtype=int)\n",
    "    if keyboard.is_pressed(\"right\"):\n",
    "        curr[0] = 1\n",
    "    if keyboard.is_pressed(\"left\"):\n",
    "        curr[1] = 1\n",
    "    if keyboard.is_pressed(\"up\"):\n",
    "        curr[2] = 1\n",
    "    if keyboard.is_pressed(\"down\"):\n",
    "        curr[3] = 1\n",
    "\n",
    "    if curr.sum() != 1 or np.equal(last, curr).all():\n",
    "        return None, curr\n",
    "\n",
    "    if curr[0] == 1:\n",
    "        return cts.MOVE_RIGHT, curr\n",
    "    if curr[1] == 1:\n",
    "        return cts.MOVE_LEFT, curr\n",
    "    if curr[2] == 1:\n",
    "        return cts.MOVE_UP, curr\n",
    "    if curr[3] == 1:\n",
    "        return cts.MOVE_DOWN, curr\n",
    "\n",
    "last_key = np.zeros(4, dtype=int)\n",
    "reward = 0\n",
    "model = MDP_2048()\n",
    "model.initialize_state()\n",
    "print(\"SCORE:\", reward)\n",
    "print(\"\\n\\n\\n\")\n",
    "model.print_state()\n",
    "\n",
    "while not keyboard.is_pressed(\"esc\"):\n",
    "\n",
    "    action, last_key = get_action(last_key)\n",
    "\n",
    "    if action is not None:\n",
    "        model.transition_function(action)\n",
    "        reward = model.reward_function()\n",
    "\n",
    "        clear_output(wait=True)\n",
    "        print(\"SCORE:\", reward)\n",
    "        print(f\"\\n{action}\\n\")\n",
    "        model.print_state()\n",
    "\n",
    "print(\"\\nGAME ENDED, SCORE =\", reward)"
   ]
  },
  {
   "cell_type": "code",
   "execution_count": null,
   "outputs": [],
   "source": [
    "def __rotate_before_compact(state, action):\n",
    "    if action == cts.MOVE_RIGHT:\n",
    "        return np.flip(state, axis=1)\n",
    "    elif action == cts.MOVE_UP:\n",
    "        return state.T\n",
    "    elif action == cts.MOVE_DOWN:\n",
    "        return np.flip(state.T, axis=1)\n",
    "    else:\n",
    "        return state\n",
    "\n",
    "def __compact_tiles(state):\n",
    "    def compact_row(row):\n",
    "        length = len(row)\n",
    "        row = row[np.where(row > 0)]\n",
    "        for i in range(len(row) - 1):\n",
    "            if row[i] == row[i + 1] & row[i] != 0:\n",
    "                row[i] += 1\n",
    "                row[i + 1] = 0\n",
    "        row = row[np.where(row > 0)]\n",
    "        row = np.pad(row, (0, length - len(row)), 'constant', constant_values=0)\n",
    "        return row\n",
    "\n",
    "    return np.apply_along_axis(compact_row, 1, state)\n",
    "\n",
    "def __rotate_after_compact(state, action):\n",
    "    if action == cts.MOVE_RIGHT:\n",
    "        return np.flip(state, axis=1)\n",
    "    elif action == cts.MOVE_UP:\n",
    "        return state.T\n",
    "    elif action == cts.MOVE_DOWN:\n",
    "        return np.flip(state, axis=1).T\n",
    "    else:\n",
    "        return state\n",
    "\n",
    "\n",
    "s = np.array([[1,2,1,0],[1,2,0,0],[3,0,0,0],[3,0,0,1]])\n",
    "action = cts.MOVE_RIGHT\n",
    "\n",
    "print(s, \"init\")\n",
    "s = __rotate_before_compact(s, action)\n",
    "print(s, \"after first rotate\")\n",
    "s = __compact_tiles(s)\n",
    "print(s, \"after compact\")\n",
    "s = __rotate_after_compact(s, action)\n",
    "print(s, \"after second rotate\")"
   ],
   "metadata": {
    "collapsed": false,
    "pycharm": {
     "name": "#%%\n"
    }
   }
  },
  {
   "cell_type": "code",
   "execution_count": null,
   "outputs": [],
   "source": [
    "def compact_row(row):\n",
    "    length = len(row)\n",
    "    row = row[np.where(row > 0)]\n",
    "    print(row)\n",
    "    for i in range(len(row) - 1):\n",
    "        if row[i] == row[i + 1] and row[i] != 0:\n",
    "            row[i] += 1\n",
    "            row[i + 1] = 0\n",
    "    print(row)\n",
    "    row = row[np.where(row > 0)]\n",
    "    print(row)\n",
    "    row = np.pad(row, (0, length - len(row)), 'constant', constant_values=0)\n",
    "    print(row)\n",
    "    return row\n",
    "\n",
    "r = np.array([1, 3, 4, 1])\n",
    "print(r)\n",
    "r = compact_row(r)\n",
    "print(r)"
   ],
   "metadata": {
    "collapsed": false,
    "pycharm": {
     "name": "#%%\n"
    }
   }
  }
 ],
 "metadata": {
  "kernelspec": {
   "display_name": "Python 3",
   "language": "python",
   "name": "python3"
  },
  "language_info": {
   "codemirror_mode": {
    "name": "ipython",
    "version": 2
   },
   "file_extension": ".py",
   "mimetype": "text/x-python",
   "name": "python",
   "nbconvert_exporter": "python",
   "pygments_lexer": "ipython2",
   "version": "2.7.6"
  }
 },
 "nbformat": 4,
 "nbformat_minor": 0
}
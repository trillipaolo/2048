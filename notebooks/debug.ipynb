{
 "cells": [
  {
   "cell_type": "code",
   "execution_count": 1,
   "metadata": {
    "collapsed": true,
    "pycharm": {
     "name": "#%%\n"
    }
   },
   "outputs": [
    {
     "name": "stdout",
     "output_type": "stream",
     "text": [
      "SCORE: 26\n",
      " 0 3 4 5\n",
      " 1 1 1 3\n",
      " 0 0 2 3\n",
      " 0 0 1 2\n",
      "\n",
      "GAME ENDED, SCORE = 26\n"
     ]
    }
   ],
   "source": [
    "import numpy as np\n",
    "import keyboard\n",
    "import time\n",
    "from IPython.display import clear_output\n",
    "from src.constants import constants as cts\n",
    "from src.model.MDP_2048 import MDP_2048\n",
    "\n",
    "\n",
    "def get_action(last):\n",
    "    curr = np.zeros(4, dtype=int)\n",
    "    if keyboard.is_pressed(\"d\"):\n",
    "        curr[0] = 1\n",
    "    if keyboard.is_pressed(\"a\"):\n",
    "        curr[1] = 1\n",
    "    if keyboard.is_pressed(\"w\"):\n",
    "        curr[2] = 1\n",
    "    if keyboard.is_pressed(\"s\"):\n",
    "        curr[3] = 1\n",
    "\n",
    "    if curr.sum() != 1 or np.equal(last, curr).all():\n",
    "        return None, curr\n",
    "\n",
    "    if curr[0] == 1:\n",
    "        return cts.MOVE_RIGHT, curr\n",
    "    if curr[1] == 1:\n",
    "        return cts.MOVE_LEFT, curr\n",
    "    if curr[2] == 1:\n",
    "        return cts.MOVE_UP, curr\n",
    "    if curr[3] == 1:\n",
    "        return cts.MOVE_DOWN, curr\n",
    "\n",
    "last_key = np.zeros(4, dtype=int)\n",
    "model = MDP_2048()\n",
    "model.initialize_state()\n",
    "print(\"SCORE: 0\")\n",
    "model.print_state()\n",
    "\n",
    "while not keyboard.is_pressed(\"q\"):\n",
    "\n",
    "    action, last_key = get_action(last_key)\n",
    "\n",
    "    if action is not None:\n",
    "        model.transition_function(action)\n",
    "        reward = model.reward_function()\n",
    "\n",
    "        clear_output(wait=True)\n",
    "        print(\"SCORE:\", reward)\n",
    "        model.print_state()\n",
    "\n",
    "print(\"\\nGAME ENDED, SCORE =\", reward)\n"
   ]
  }
 ],
 "metadata": {
  "kernelspec": {
   "display_name": "Python 3",
   "language": "python",
   "name": "python3"
  },
  "language_info": {
   "codemirror_mode": {
    "name": "ipython",
    "version": 2
   },
   "file_extension": ".py",
   "mimetype": "text/x-python",
   "name": "python",
   "nbconvert_exporter": "python",
   "pygments_lexer": "ipython2",
   "version": "2.7.6"
  }
 },
 "nbformat": 4,
 "nbformat_minor": 0
}
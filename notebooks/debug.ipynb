{
 "cells": [
  {
   "cell_type": "code",
   "execution_count": null,
   "metadata": {
    "collapsed": true,
    "pycharm": {
     "name": "#%%\n"
    }
   },
   "outputs": [],
   "source": [
    "import numpy as np\n",
    "import keyboard\n",
    "from IPython.display import clear_output\n",
    "from src.constants import constants as cts\n",
    "from src.model.MDP_2048 import MDP_2048\n",
    "\n",
    "def get_action(last):\n",
    "    curr = np.zeros(4, dtype=int)\n",
    "    if keyboard.is_pressed(\"right\"):\n",
    "        curr[0] = 1\n",
    "    if keyboard.is_pressed(\"left\"):\n",
    "        curr[1] = 1\n",
    "    if keyboard.is_pressed(\"up\"):\n",
    "        curr[2] = 1\n",
    "    if keyboard.is_pressed(\"down\"):\n",
    "        curr[3] = 1\n",
    "\n",
    "    if curr.sum() != 1 or np.equal(last, curr).all():\n",
    "        return None, curr\n",
    "\n",
    "    if curr[0] == 1:\n",
    "        return cts.MOVE_RIGHT, curr\n",
    "    if curr[1] == 1:\n",
    "        return cts.MOVE_LEFT, curr\n",
    "    if curr[2] == 1:\n",
    "        return cts.MOVE_UP, curr\n",
    "    if curr[3] == 1:\n",
    "        return cts.MOVE_DOWN, curr\n",
    "\n",
    "last_key = np.zeros(4, dtype=int)\n",
    "reward = 0\n",
    "model = MDP_2048()\n",
    "model.initialize_state()\n",
    "print(\"SCORE:\", reward)\n",
    "print(\"\\n\\n\\n\")\n",
    "model.print_state()\n",
    "\n",
    "while not keyboard.is_pressed(\"esc\"):\n",
    "\n",
    "    action, last_key = get_action(last_key)\n",
    "\n",
    "    if action is not None:\n",
    "        model.transition_function(action)\n",
    "        reward = model.reward_function()\n",
    "\n",
    "        clear_output(wait=True)\n",
    "        print(\"SCORE:\", reward)\n",
    "        print(f\"\\n{action}\\n\")\n",
    "        model.print_state()\n",
    "\n",
    "print(\"\\nGAME ENDED, SCORE =\", reward)"
   ]
  },
  {
   "cell_type": "code",
   "execution_count": null,
   "outputs": [],
   "source": [
    "def __rotate_before_compact(state, action):\n",
    "    if action == cts.MOVE_RIGHT:\n",
    "        return np.flip(state, axis=1)\n",
    "    elif action == cts.MOVE_UP:\n",
    "        return state.T\n",
    "    elif action == cts.MOVE_DOWN:\n",
    "        return np.flip(state.T, axis=1)\n",
    "    else:\n",
    "        return state\n",
    "\n",
    "def __compact_tiles(state):\n",
    "    def compact_row(row):\n",
    "        length = len(row)\n",
    "        row = row[np.where(row > 0)]\n",
    "        for i in range(len(row) - 1):\n",
    "            if row[i] == row[i + 1] & row[i] != 0:\n",
    "                row[i] += 1\n",
    "                row[i + 1] = 0\n",
    "        row = row[np.where(row > 0)]\n",
    "        row = np.pad(row, (0, length - len(row)), 'constant', constant_values=0)\n",
    "        return row\n",
    "\n",
    "    return np.apply_along_axis(compact_row, 1, state)\n",
    "\n",
    "def __rotate_after_compact(state, action):\n",
    "    if action == cts.MOVE_RIGHT:\n",
    "        return np.flip(state, axis=1)\n",
    "    elif action == cts.MOVE_UP:\n",
    "        return state.T\n",
    "    elif action == cts.MOVE_DOWN:\n",
    "        return np.flip(state, axis=1).T\n",
    "    else:\n",
    "        return state\n",
    "\n",
    "\n",
    "s = np.array([[1,2,1,0],[1,2,0,0],[3,0,0,0],[3,0,0,1]])\n",
    "action = cts.MOVE_RIGHT\n",
    "\n",
    "print(s, \"init\")\n",
    "s = __rotate_before_compact(s, action)\n",
    "print(s, \"after first rotate\")\n",
    "s = __compact_tiles(s)\n",
    "print(s, \"after compact\")\n",
    "s = __rotate_after_compact(s, action)\n",
    "print(s, \"after second rotate\")"
   ],
   "metadata": {
    "collapsed": false,
    "pycharm": {
     "name": "#%%\n"
    }
   }
  },
  {
   "cell_type": "code",
   "execution_count": null,
   "outputs": [],
   "source": [
    "def compact_row(row):\n",
    "    length = len(row)\n",
    "    row = row[np.where(row > 0)]\n",
    "    print(row)\n",
    "    for i in range(len(row) - 1):\n",
    "        if row[i] == row[i + 1] and row[i] != 0:\n",
    "            row[i] += 1\n",
    "            row[i + 1] = 0\n",
    "    print(row)\n",
    "    row = row[np.where(row > 0)]\n",
    "    print(row)\n",
    "    row = np.pad(row, (0, length - len(row)), 'constant', constant_values=0)\n",
    "    print(row)\n",
    "    return row\n",
    "\n",
    "r = np.array([1, 3, 4, 1])\n",
    "print(r)\n",
    "r = compact_row(r)\n",
    "print(r)"
   ],
   "metadata": {
    "collapsed": false,
    "pycharm": {
     "name": "#%%\n"
    }
   }
  },
  {
   "cell_type": "code",
   "execution_count": 15,
   "outputs": [
    {
     "name": "stdout",
     "output_type": "stream",
     "text": [
      "[[ 1  2  3  4]\n",
      " [ 5  6  2  8]\n",
      " [ 9  2 11  2]\n",
      " [13 14  2  2]]\n"
     ]
    },
    {
     "data": {
      "text/plain": "(array([[ 1,  2,  3,  4],\n        [ 5,  6,  2,  8],\n        [ 9,  2, 11,  2],\n        [13, 14,  3,  0]]),\n 8)"
     },
     "execution_count": 15,
     "metadata": {},
     "output_type": "execute_result"
    }
   ],
   "source": [
    "import numpy as np\n",
    "\n",
    "def __compact_tiles(state):\n",
    "    def compact_row(row, reward):\n",
    "        length = len(row)\n",
    "        row = row[np.where(row > 0)]\n",
    "        for i in range(len(row) - 1):\n",
    "            if row[i] == row[i + 1] and row[i] != 0:\n",
    "                row[i] += 1\n",
    "                row[i + 1] = 0\n",
    "                reward[0] += 2 ** row[i]\n",
    "        row = row[np.where(row > 0)]\n",
    "        row = np.pad(row, (0, length - len(row)), 'constant', constant_values=0)\n",
    "        return row\n",
    "\n",
    "    reward = [0]\n",
    "    state_out = np.apply_along_axis(compact_row, 1, state, reward)\n",
    "\n",
    "    return state_out, reward[0]\n",
    "\n",
    "m = np.array([\n",
    "    [1,2,3,4],\n",
    "    [5,6,2,8],\n",
    "    [9,2,11,2],\n",
    "    [13,14,2,2]\n",
    "])\n",
    "\n",
    "print(m)\n",
    "\n",
    "__compact_tiles(m)"
   ],
   "metadata": {
    "collapsed": false,
    "pycharm": {
     "name": "#%%\n"
    }
   }
  },
  {
   "cell_type": "code",
   "execution_count": 28,
   "outputs": [
    {
     "name": "stdout",
     "output_type": "stream",
     "text": [
      "[1 2 0 3]\n"
     ]
    },
    {
     "data": {
      "text/plain": "['MOVE_LEFT', 'MOVE_UP', 'MOVE_RIGHT', 'MOVE_DOWN']"
     },
     "execution_count": 28,
     "metadata": {},
     "output_type": "execute_result"
    }
   ],
   "source": [
    "probabilities = [0.7, 0.1, 0.5, 0.8]\n",
    "\n",
    "prob = np.array(probabilities)\n",
    "index = prob.argsort()\n",
    "\n",
    "print(index)\n",
    "\n",
    "action_dict = {\n",
    "    0: 'MOVE_RIGHT',\n",
    "    1: 'MOVE_LEFT',\n",
    "    2: 'MOVE_UP',\n",
    "    3: 'MOVE_DOWN'\n",
    "}\n",
    "\n",
    "[action_dict[x] for x in index]"
   ],
   "metadata": {
    "collapsed": false,
    "pycharm": {
     "name": "#%%\n"
    }
   }
  },
  {
   "cell_type": "code",
   "execution_count": 29,
   "outputs": [
    {
     "data": {
      "text/plain": "array([ 927789933,  124277924, 1109188517, 1750150588, 2057306815,\n       1147665619,  951327760, 1729951427, 1470617838, 1513745087])"
     },
     "execution_count": 29,
     "metadata": {},
     "output_type": "execute_result"
    }
   ],
   "source": [
    "from datetime import datetime\n",
    "import numpy as np\n",
    "\n",
    "rand_state = np.random.RandomState(datetime.now().microsecond)\n",
    "seeds = rand_state.randint(np.iinfo(np.int32).max, size=10)\n",
    "seeds"
   ],
   "metadata": {
    "collapsed": false,
    "pycharm": {
     "name": "#%%\n"
    }
   }
  },
  {
   "cell_type": "code",
   "execution_count": 5,
   "outputs": [
    {
     "name": "stdout",
     "output_type": "stream",
     "text": [
      "{1: 1, 2: 0}\n",
      "1\n"
     ]
    }
   ],
   "source": [
    "import numpy as np\n",
    "from src.constants import constants as cts\n",
    "\n",
    "def bigger_prob(dictionary):\n",
    "    keys = np.array(list(dictionary.keys()))\n",
    "    values = np.array(list(dictionary.values()))\n",
    "\n",
    "    keys_positive = keys[values > 0]\n",
    "\n",
    "    return keys_positive.max()\n",
    "\n",
    "d = cts.PROB_NUMBER_NEW_TILES\n",
    "\n",
    "print(d)\n",
    "print(bigger_prob(d))"
   ],
   "metadata": {
    "collapsed": false,
    "pycharm": {
     "name": "#%%\n"
    }
   }
  },
  {
   "cell_type": "code",
   "execution_count": 56,
   "outputs": [
    {
     "name": "stdout",
     "output_type": "stream",
     "text": [
      "[[1 2 1 0]\n",
      " [1 2 0 0]\n",
      " [3 0 0 0]\n",
      " [3 0 0 1]]\n",
      "[[2 4 2 1]\n",
      " [2 4 1 1]\n",
      " [8 1 1 1]\n",
      " [8 1 1 2]]\n",
      "[[2 4 2 1]\n",
      " [2 4 1 1]\n",
      " [8 1 1 1]\n",
      " [8 1 1 2]]\n",
      "[[2 4 2 0]\n",
      " [2 4 0 0]\n",
      " [8 0 0 0]\n",
      " [8 0 0 2]]\n"
     ]
    }
   ],
   "source": [
    "import numpy as np\n",
    "\n",
    "s = np.array([[1,2,1,0],[1,2,0,0],[3,0,0,0],[3,0,0,1]])\n",
    "\n",
    "def p(state):\n",
    "    return np.power(2, state)\n",
    "\n",
    "def pp(state):\n",
    "    return np.left_shift(np.ones_like(state), s)\n",
    "\n",
    "def ppp(state):\n",
    "    return (2 << state - 1)\n",
    "\n",
    "print(s)\n",
    "print(p(s))\n",
    "print(pp(s))\n",
    "print(ppp(s))"
   ],
   "metadata": {
    "collapsed": false,
    "pycharm": {
     "name": "#%%\n"
    }
   }
  },
  {
   "cell_type": "code",
   "execution_count": 68,
   "outputs": [
    {
     "name": "stdout",
     "output_type": "stream",
     "text": [
      "1.01 µs ± 17.5 ns per loop (mean ± std. dev. of 7 runs, 1000000 loops each)\n"
     ]
    }
   ],
   "source": [
    "%%timeit\n",
    "p(s)"
   ],
   "metadata": {
    "collapsed": false,
    "pycharm": {
     "name": "#%%\n"
    }
   }
  },
  {
   "cell_type": "code",
   "execution_count": 66,
   "outputs": [
    {
     "name": "stdout",
     "output_type": "stream",
     "text": [
      "3.55 µs ± 71.4 ns per loop (mean ± std. dev. of 7 runs, 100000 loops each)\n"
     ]
    }
   ],
   "source": [
    "%%timeit\n",
    "pp(s)"
   ],
   "metadata": {
    "collapsed": false,
    "pycharm": {
     "name": "#%%\n"
    }
   }
  },
  {
   "cell_type": "code",
   "execution_count": 61,
   "outputs": [
    {
     "name": "stdout",
     "output_type": "stream",
     "text": [
      "1.7 µs ± 19.3 ns per loop (mean ± std. dev. of 7 runs, 1000000 loops each)\n"
     ]
    }
   ],
   "source": [
    "%%timeit\n",
    "ppp(s)"
   ],
   "metadata": {
    "collapsed": false,
    "pycharm": {
     "name": "#%%\n"
    }
   }
  }
 ],
 "metadata": {
  "kernelspec": {
   "display_name": "Python 3",
   "language": "python",
   "name": "python3"
  },
  "language_info": {
   "codemirror_mode": {
    "name": "ipython",
    "version": 2
   },
   "file_extension": ".py",
   "mimetype": "text/x-python",
   "name": "python",
   "nbconvert_exporter": "python",
   "pygments_lexer": "ipython2",
   "version": "2.7.6"
  }
 },
 "nbformat": 4,
 "nbformat_minor": 0
}